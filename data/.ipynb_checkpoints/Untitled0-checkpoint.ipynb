{
 "metadata": {
  "name": "",
  "signature": "sha256:d70f0242fa7b6d3ab5647f89e55470784bae4adb2f0183ca9e381460a2ea0646"
 },
 "nbformat": 3,
 "nbformat_minor": 0,
 "worksheets": []
}