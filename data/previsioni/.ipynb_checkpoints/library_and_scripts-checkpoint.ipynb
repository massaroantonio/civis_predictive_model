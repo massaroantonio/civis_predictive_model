{
 "cells": [
  {
   "cell_type": "code",
   "execution_count": 5,
   "metadata": {
    "collapsed": true
   },
   "outputs": [],
   "source": [
    "import urllib2\n",
    "import matplotlib.pyplot as plt\n",
    "import numpy as np\n",
    "import os\n",
    "%matplotlib inline\n"
   ]
  },
  {
   "cell_type": "code",
   "execution_count": 6,
   "metadata": {
    "collapsed": false
   },
   "outputs": [
    {
     "data": {
      "text/plain": [
       "'http://nomads.ncep.noaa.gov/cgi-bin/filter_gfs_0p25.pl?file=gfs.t12z.pgrb2.0p25.f000&all_lev=on&all_var=on&leftlon=0&rightlon=360&toplat=90&bottomlat=-90&showurl=&dir=%2Fgfs.2015113012'"
      ]
     },
     "execution_count": 6,
     "metadata": {},
     "output_type": "execute_result"
    }
   ],
   "source": [
    "'http://nomads.ncep.noaa.gov/cgi-bin/filter_gfs_0p25.pl?file=gfs.t12z.pgrb2.0p25.f000&all_lev=on&all_var=on&leftlon=0&rightlon=360&toplat=90&bottomlat=-90&showurl=&dir=%2Fgfs.2015113012'"
   ]
  },
  {
   "cell_type": "code",
   "execution_count": 7,
   "metadata": {
    "collapsed": false
   },
   "outputs": [],
   "source": [
    "def create_ctl_file(path_to_perl_script,path_to_grib_file):\n",
    "    command='perl '+path_to_perl_script+' '+path_to_grib_file+'>'+path_to_grib_file+'.ctl' \n",
    "    os.system(command)\n",
    "    return\n",
    "def create_idx_file(path_to_ctl_file):\n",
    "    command='gribmap -i '+path_to_ctl_file\n",
    "    os.system(command)\n",
    "    return\n",
    "def print_radiation_to_file(path_to_grads_script,lat,lon,path_to_ctl_file,path_to_out_file):\n",
    "    command=\"grads -blcx '\"+path_to_grads_script+' '+str(lat)+' '+str(lon)+' '+path_to_ctl_file+' '+path_to_out_file+\"'\"\n",
    "    os.system(command)"
   ]
  },
  {
   "cell_type": "code",
   "execution_count": 15,
   "metadata": {
    "collapsed": true
   },
   "outputs": [],
   "source": [
    "forwards=['03','06','09']+[str(i*3) for i in range(4,17)]\n",
    "def download_and_create_ctl_idx_files(run_hour,year,month,day,forward,download_directory,path_to_perl_script):\n",
    "    assert run_hour in ['00','06','12','18'],'run_hour must be one of the following: '+str(['00','06','12','18'])\n",
    "    assert forward in forwards,'forward must be one of the following: '+str(forwards)\n",
    "    url='http://nomads.ncep.noaa.gov/cgi-bin/filter_gfs_0p25.pl?file=gfs.t'+str(run_hour)+'z.pgrb2.0p25.f0'+str(forward)+'&all_lev=on&all_var=on&subregion=&leftlon=8&rightlon=12&toplat=48&bottomlat=43&dir=%2Fgfs.'+str(year)+str(month)+str(day)+str(run_hour)\n",
    "    grib = urllib2.urlopen(url)\n",
    "    filename=str(year)+'_'+str(month)+'_'+str(day)+'_'+str(run_hour)+'_'+str(forward)\n",
    "    output = open(download_directory+filename,'wb')\n",
    "    output.write(grib.read())\n",
    "    output.close()\n",
    "    create_ctl_file(path_to_perl_script,download_directory+filename)\n",
    "    create_idx_file(download_directory+filename+'.ctl')\n",
    "    return"
   ]
  },
  {
   "cell_type": "code",
   "execution_count": 16,
   "metadata": {
    "collapsed": true
   },
   "outputs": [],
   "source": [
    "def forecast_production(path_to_radiation_forecast,path_to_production_forecast,intercept,slope):\n",
    "    inFile=open(path_to_radiation_forecast,'r')\n",
    "    outFile=open(path_to_production_forecast,'w')\n",
    "    for l in inFile:\n",
    "        l=l.split(' ')\n",
    "        rad=float(l[-1].split(':')[-1])\n",
    "        outFile.write(l[0]+' '+l[1]+' Production:'+str(intercept+slope*(rad*3600*3))+'\\n')\n",
    "    return"
   ]
  },
  {
   "cell_type": "code",
   "execution_count": 21,
   "metadata": {
    "collapsed": false
   },
   "outputs": [
    {
     "data": {
      "text/plain": [
       "[1, 2, 1, 2]"
      ]
     },
     "execution_count": 21,
     "metadata": {},
     "output_type": "execute_result"
    }
   ],
   "source": [
    "x=[1,2]\n",
    "x+=x\n",
    "x"
   ]
  },
  {
   "cell_type": "code",
   "execution_count": 17,
   "metadata": {
    "collapsed": true
   },
   "outputs": [],
   "source": [
    "def get_signal(path_to_production_forecast,path_to_consuption_forecast,path_to_signal_file):\n",
    "    inFile1=open(path_to_production_forecast,'r')\n",
    "    inFile2=open(path_to_consuption_forecast,'r')\n",
    "    outFile=open(path_to_signal_file,'w')\n",
    "    time=[]\n",
    "    Production=[]\n",
    "    Consumption=[]\n",
    "    for l in inFile1:\n",
    "        l=l.split('Production:')\n",
    "        time1.append(l[0])\n",
    "        Production.append(float(l[1]))\n",
    "    inFile1.close()\n",
    "    for l in inFile2:\n",
    "        l=l.split('Consumption:')\n",
    "        Consumption.append(float(l[1]))\n",
    "    Consumption+=Consumption\n",
    "    inFile2.close()    \n",
    "    assert len(Consumption)==len(Production), 'Production and Consumption vector have different lengths'\n",
    "    for i in range(len(Consumption)):\n",
    "        outFile.write(time[i]+' '+str((Production[i]-Consumption[i])>0)+'\\n')\n",
    "    outFile.close()\n",
    "    return\n",
    "        \n",
    "    "
   ]
  },
  {
   "cell_type": "code",
   "execution_count": 18,
   "metadata": {
    "collapsed": true
   },
   "outputs": [],
   "source": [
    "forwards=['03','06','09']+[str(i*3) for i in range(4,17)]\n",
    "latStoro='46.2'\n",
    "lonStoro='10.1'\n",
    "latSLorenzo='46.2'\n",
    "lonSLorenzo='10.1'\n",
    "perl_script='/home/amassaro/civis/civis_data/previsioni/g2ctl.pl'\n",
    "grads_script='/home/amassaro/civis/civis_data/previsioni/grads_script_short_long_wave.gs'\n",
    "consumption_forecast_storo='/home/amassaro/civis/civis_data/previsioni/consumption_storo.txt'\n",
    "consumption_forecast_sLorenzo='/home/amassaro/civis/civis_data/previsioni/consumption_sLorenzo.txt'\n",
    "interceptStoro=10\n",
    "slopeStoro=.33\n",
    "interceptSLorenzo=10\n",
    "slopeSLorenzo=.33\n",
    "def update(year,month,day,run_hour,place):\n",
    "    if place=='Storo':\n",
    "        intercept=interceptStoro\n",
    "        slope=slopeStoro\n",
    "        lat=latStoro\n",
    "        lon=lonStoro\n",
    "        consumption_forecast=consumption_forecast_storo\n",
    "    elif place=='San Lorenzo':\n",
    "        intercept=interceptSLorenzo\n",
    "        slope=slopeSLorenzo\n",
    "        lat=latSLorenzo\n",
    "        lon=lonSLorenzo\n",
    "        consumption_forecast=consumption_forecast_sLorenzo\n",
    "    current_dir=str(day)+'_'+str(month)+'_'+str(year)+'_'+run_hour+'_'+place\n",
    "    os.system('mkdir '+current_dir)\n",
    "    download_directory='/home/amassaro/civis/civis_data/previsioni/'+current_dir+'/'\n",
    "    rad_fc='/home/amassaro/civis/civis_data/previsioni/radiazione_fc_'+str(day)+'_'+str(month)+'_'+str(year)+'_'+str(run_hour)+'_'+place+'.txt'\n",
    "    elec_fc='/home/amassaro/civis/civis_data/previsioni/electricity_fc_'+str(day)+'_'+str(month)+'_'+str(year)+'_'+str(run_hour)+'_'+place+'.txt'\n",
    "    signal_file='/home/amassaro/civis/civis_data/previsioni/signal_'+str(day)+'_'+str(month)+'_'+str(year)+'_'+str(run_hour)+'_'+place+'.txt'\n",
    "    \n",
    "    for forward in forwards:\n",
    "        download_and_create_ctl_idx_files(run_hour,year,month,day,forward,download_directory,perl_script)\n",
    "\n",
    "    files=os.listdir(current_dir+'/')\n",
    "    files=[f for f in files if '.ctl' in f]\n",
    "    files.sort()\n",
    "    for f in files:\n",
    "        ctl_file='/home/amassaro/civis/civis_data/previsioni/'+current_dir+'/'+f\n",
    "        print_radiation_to_file(grads_script,lat,lon,ctl_file,rad_fc)\n",
    "    forecast_production(rad_fc,elec_fc,intercept,slope)\n",
    "    get_signal(elec_fc,consumption_forecast,signal_file)\n",
    "    return"
   ]
  },
  {
   "cell_type": "code",
   "execution_count": null,
   "metadata": {
    "collapsed": true
   },
   "outputs": [],
   "source": []
  },
  {
   "cell_type": "code",
   "execution_count": 19,
   "metadata": {
    "collapsed": false
   },
   "outputs": [],
   "source": [
    "update(2015,11,30,'00','Storo')"
   ]
  },
  {
   "cell_type": "code",
   "execution_count": 19,
   "metadata": {
    "collapsed": false
   },
   "outputs": [],
   "source": [
    "forwards=['03','06','09','12','15','18','21','24']\n",
    "lat='46.2'\n",
    "lon='10.1'\n",
    "path_to_perl_script='/home/amassaro/civis/civis_data/previsioni/g2ctl.pl'\n",
    "path_to_grads_script='/home/amassaro/civis/civis_data/previsioni/grads_script_short_long_wave.gs'\n",
    "intercept=10\n",
    "slope=.33\n",
    "\n",
    "run_hour='00'\n",
    "year=2015\n",
    "month=11\n",
    "day=30\n",
    "current_dir=str(day)+'_'+str(month)+'_'+str(year)+'_'+run_hour\n",
    "os.system('mkdir '+current_dir)\n",
    "download_directory='/home/amassaro/civis/civis_data/previsioni/'+current_dir+'/'\n",
    "path_to_rad_fc='/home/amassaro/civis/civis_data/previsioni/radiazione_fc_'+str(day)+'_'+str(month)+'_'+str(year)+'.txt'\n",
    "path_to_elec_fc='/home/amassaro/civis/civis_data/previsioni/electricity_fc_'+str(day)+'_'+str(month)+'_'+str(year)+'.txt'\n",
    "\n",
    "for forward in forwards:\n",
    "    download_and_create_ctl_idx_files(run_hour,year,month,day,forward,download_directory,path_to_perl_script)\n",
    "\n",
    "files=os.listdir(current_dir+'/')\n",
    "files=[f for f in files if '.ctl' in f]\n",
    "files.sort()\n",
    "for f in files:\n",
    "    path_to_ctl_file='/home/amassaro/civis/civis_data/previsioni/'+current_dir+'/'+f\n",
    "    print_radiation_to_file(path_to_grads_script,lat,lon,path_to_ctl_file,path_to_rad_fc)\n",
    "forecast(path_to_rad_fc,path_to_elec_fc,intercept,slope)"
   ]
  },
  {
   "cell_type": "code",
   "execution_count": 15,
   "metadata": {
    "collapsed": false,
    "scrolled": true
   },
   "outputs": [
    {
     "name": "stdout",
     "output_type": "stream",
     "text": [
      "00 30 00\n",
      "00 30 06\n",
      "03 30 00\n",
      "03 30 06\n",
      "06 30 00\n",
      "06 30 06\n",
      "09 30 00\n",
      "09 30 06\n",
      "12 30 00\n"
     ]
    },
    {
     "ename": "KeyboardInterrupt",
     "evalue": "",
     "output_type": "error",
     "traceback": [
      "\u001b[1;31m---------------------------------------------------------------------------\u001b[0m",
      "\u001b[1;31mKeyboardInterrupt\u001b[0m                         Traceback (most recent call last)",
      "\u001b[1;32m<ipython-input-15-a4f8ca3297d3>\u001b[0m in \u001b[0;36m<module>\u001b[1;34m()\u001b[0m\n\u001b[0;32m     18\u001b[0m             \u001b[0mgrib\u001b[0m \u001b[1;33m=\u001b[0m \u001b[0murllib2\u001b[0m\u001b[1;33m.\u001b[0m\u001b[0murlopen\u001b[0m\u001b[1;33m(\u001b[0m\u001b[0mstring\u001b[0m\u001b[1;33m)\u001b[0m\u001b[1;33m\u001b[0m\u001b[0m\n\u001b[0;32m     19\u001b[0m             \u001b[0moutput\u001b[0m \u001b[1;33m=\u001b[0m \u001b[0mopen\u001b[0m\u001b[1;33m(\u001b[0m\u001b[0myear\u001b[0m\u001b[1;33m+\u001b[0m\u001b[0mmonth\u001b[0m\u001b[1;33m+\u001b[0m\u001b[0mdays\u001b[0m\u001b[1;33m[\u001b[0m\u001b[0mj\u001b[0m\u001b[1;33m]\u001b[0m\u001b[1;33m+\u001b[0m\u001b[0mhours\u001b[0m\u001b[1;33m[\u001b[0m\u001b[0mk\u001b[0m\u001b[1;33m]\u001b[0m\u001b[1;33m+\u001b[0m\u001b[1;34m'_'\u001b[0m\u001b[1;33m+\u001b[0m\u001b[0mforwards\u001b[0m\u001b[1;33m[\u001b[0m\u001b[0mi\u001b[0m\u001b[1;33m]\u001b[0m\u001b[1;33m,\u001b[0m\u001b[1;34m'wb'\u001b[0m\u001b[1;33m)\u001b[0m\u001b[1;33m\u001b[0m\u001b[0m\n\u001b[1;32m---> 20\u001b[1;33m             \u001b[0moutput\u001b[0m\u001b[1;33m.\u001b[0m\u001b[0mwrite\u001b[0m\u001b[1;33m(\u001b[0m\u001b[0mgrib\u001b[0m\u001b[1;33m.\u001b[0m\u001b[0mread\u001b[0m\u001b[1;33m(\u001b[0m\u001b[1;33m)\u001b[0m\u001b[1;33m)\u001b[0m\u001b[1;33m\u001b[0m\u001b[0m\n\u001b[0m\u001b[0;32m     21\u001b[0m             \u001b[0moutput\u001b[0m\u001b[1;33m.\u001b[0m\u001b[0mclose\u001b[0m\u001b[1;33m(\u001b[0m\u001b[1;33m)\u001b[0m\u001b[1;33m\u001b[0m\u001b[0m\n\u001b[0;32m     22\u001b[0m \u001b[1;33m\u001b[0m\u001b[0m\n",
      "\u001b[1;32m/home/amassaro/anaconda/lib/python2.7/socket.pyc\u001b[0m in \u001b[0;36mread\u001b[1;34m(self, size)\u001b[0m\n\u001b[0;32m    353\u001b[0m             \u001b[1;32mwhile\u001b[0m \u001b[0mTrue\u001b[0m\u001b[1;33m:\u001b[0m\u001b[1;33m\u001b[0m\u001b[0m\n\u001b[0;32m    354\u001b[0m                 \u001b[1;32mtry\u001b[0m\u001b[1;33m:\u001b[0m\u001b[1;33m\u001b[0m\u001b[0m\n\u001b[1;32m--> 355\u001b[1;33m                     \u001b[0mdata\u001b[0m \u001b[1;33m=\u001b[0m \u001b[0mself\u001b[0m\u001b[1;33m.\u001b[0m\u001b[0m_sock\u001b[0m\u001b[1;33m.\u001b[0m\u001b[0mrecv\u001b[0m\u001b[1;33m(\u001b[0m\u001b[0mrbufsize\u001b[0m\u001b[1;33m)\u001b[0m\u001b[1;33m\u001b[0m\u001b[0m\n\u001b[0m\u001b[0;32m    356\u001b[0m                 \u001b[1;32mexcept\u001b[0m \u001b[0merror\u001b[0m\u001b[1;33m,\u001b[0m \u001b[0me\u001b[0m\u001b[1;33m:\u001b[0m\u001b[1;33m\u001b[0m\u001b[0m\n\u001b[0;32m    357\u001b[0m                     \u001b[1;32mif\u001b[0m \u001b[0me\u001b[0m\u001b[1;33m.\u001b[0m\u001b[0margs\u001b[0m\u001b[1;33m[\u001b[0m\u001b[1;36m0\u001b[0m\u001b[1;33m]\u001b[0m \u001b[1;33m==\u001b[0m \u001b[0mEINTR\u001b[0m\u001b[1;33m:\u001b[0m\u001b[1;33m\u001b[0m\u001b[0m\n",
      "\u001b[1;32m/home/amassaro/anaconda/lib/python2.7/httplib.pyc\u001b[0m in \u001b[0;36mread\u001b[1;34m(self, amt)\u001b[0m\n\u001b[0;32m    586\u001b[0m \u001b[1;33m\u001b[0m\u001b[0m\n\u001b[0;32m    587\u001b[0m         \u001b[1;32mif\u001b[0m \u001b[0mself\u001b[0m\u001b[1;33m.\u001b[0m\u001b[0mchunked\u001b[0m\u001b[1;33m:\u001b[0m\u001b[1;33m\u001b[0m\u001b[0m\n\u001b[1;32m--> 588\u001b[1;33m             \u001b[1;32mreturn\u001b[0m \u001b[0mself\u001b[0m\u001b[1;33m.\u001b[0m\u001b[0m_read_chunked\u001b[0m\u001b[1;33m(\u001b[0m\u001b[0mamt\u001b[0m\u001b[1;33m)\u001b[0m\u001b[1;33m\u001b[0m\u001b[0m\n\u001b[0m\u001b[0;32m    589\u001b[0m \u001b[1;33m\u001b[0m\u001b[0m\n\u001b[0;32m    590\u001b[0m         \u001b[1;32mif\u001b[0m \u001b[0mamt\u001b[0m \u001b[1;32mis\u001b[0m \u001b[0mNone\u001b[0m\u001b[1;33m:\u001b[0m\u001b[1;33m\u001b[0m\u001b[0m\n",
      "\u001b[1;32m/home/amassaro/anaconda/lib/python2.7/httplib.pyc\u001b[0m in \u001b[0;36m_read_chunked\u001b[1;34m(self, amt)\u001b[0m\n\u001b[0;32m    628\u001b[0m         \u001b[1;32mwhile\u001b[0m \u001b[0mTrue\u001b[0m\u001b[1;33m:\u001b[0m\u001b[1;33m\u001b[0m\u001b[0m\n\u001b[0;32m    629\u001b[0m             \u001b[1;32mif\u001b[0m \u001b[0mchunk_left\u001b[0m \u001b[1;32mis\u001b[0m \u001b[0mNone\u001b[0m\u001b[1;33m:\u001b[0m\u001b[1;33m\u001b[0m\u001b[0m\n\u001b[1;32m--> 630\u001b[1;33m                 \u001b[0mline\u001b[0m \u001b[1;33m=\u001b[0m \u001b[0mself\u001b[0m\u001b[1;33m.\u001b[0m\u001b[0mfp\u001b[0m\u001b[1;33m.\u001b[0m\u001b[0mreadline\u001b[0m\u001b[1;33m(\u001b[0m\u001b[0m_MAXLINE\u001b[0m \u001b[1;33m+\u001b[0m \u001b[1;36m1\u001b[0m\u001b[1;33m)\u001b[0m\u001b[1;33m\u001b[0m\u001b[0m\n\u001b[0m\u001b[0;32m    631\u001b[0m                 \u001b[1;32mif\u001b[0m \u001b[0mlen\u001b[0m\u001b[1;33m(\u001b[0m\u001b[0mline\u001b[0m\u001b[1;33m)\u001b[0m \u001b[1;33m>\u001b[0m \u001b[0m_MAXLINE\u001b[0m\u001b[1;33m:\u001b[0m\u001b[1;33m\u001b[0m\u001b[0m\n\u001b[0;32m    632\u001b[0m                     \u001b[1;32mraise\u001b[0m \u001b[0mLineTooLong\u001b[0m\u001b[1;33m(\u001b[0m\u001b[1;34m\"chunk size\"\u001b[0m\u001b[1;33m)\u001b[0m\u001b[1;33m\u001b[0m\u001b[0m\n",
      "\u001b[1;32m/home/amassaro/anaconda/lib/python2.7/socket.pyc\u001b[0m in \u001b[0;36mreadline\u001b[1;34m(self, size)\u001b[0m\n\u001b[0;32m    478\u001b[0m             \u001b[1;32mwhile\u001b[0m \u001b[0mTrue\u001b[0m\u001b[1;33m:\u001b[0m\u001b[1;33m\u001b[0m\u001b[0m\n\u001b[0;32m    479\u001b[0m                 \u001b[1;32mtry\u001b[0m\u001b[1;33m:\u001b[0m\u001b[1;33m\u001b[0m\u001b[0m\n\u001b[1;32m--> 480\u001b[1;33m                     \u001b[0mdata\u001b[0m \u001b[1;33m=\u001b[0m \u001b[0mself\u001b[0m\u001b[1;33m.\u001b[0m\u001b[0m_sock\u001b[0m\u001b[1;33m.\u001b[0m\u001b[0mrecv\u001b[0m\u001b[1;33m(\u001b[0m\u001b[0mself\u001b[0m\u001b[1;33m.\u001b[0m\u001b[0m_rbufsize\u001b[0m\u001b[1;33m)\u001b[0m\u001b[1;33m\u001b[0m\u001b[0m\n\u001b[0m\u001b[0;32m    481\u001b[0m                 \u001b[1;32mexcept\u001b[0m \u001b[0merror\u001b[0m\u001b[1;33m,\u001b[0m \u001b[0me\u001b[0m\u001b[1;33m:\u001b[0m\u001b[1;33m\u001b[0m\u001b[0m\n\u001b[0;32m    482\u001b[0m                     \u001b[1;32mif\u001b[0m \u001b[0me\u001b[0m\u001b[1;33m.\u001b[0m\u001b[0margs\u001b[0m\u001b[1;33m[\u001b[0m\u001b[1;36m0\u001b[0m\u001b[1;33m]\u001b[0m \u001b[1;33m==\u001b[0m \u001b[0mEINTR\u001b[0m\u001b[1;33m:\u001b[0m\u001b[1;33m\u001b[0m\u001b[0m\n",
      "\u001b[1;31mKeyboardInterrupt\u001b[0m: "
     ]
    }
   ],
   "source": [
    "first='http://nomads.ncep.noaa.gov/cgi-bin/filter_gfs_0p25.pl?file=gfs.t'\n",
    "second='z.pgrb2.0p25.f0'\n",
    "third='&all_lev=on&all_var=on&subregion=&leftlon=8&rightlon=12&toplat=48&bottomlat=43&dir=%2Fgfs.'\n",
    "month='11'\n",
    "year='2015'\n",
    "hours=['00','06','12','18']\n",
    "hours=['00','06','12']\n",
    "days=[30]\n",
    "days=[str(x) if len(str(x))==2 else str(x).zfill(2) for x in days]\n",
    "forwards=[str(i*3) if i>=4 else '0'+str(i*3) for i in range(8)]\n",
    "\n",
    "for i in range(len(forwards)):\n",
    "    for j in range(len(days)):\n",
    "        for k in range(len(hours)-1):\n",
    "            #print string\n",
    "            print forwards[i], days[j],hours[k]\n",
    "            string=first+hours[k]+second+forwards[i]+third+year+month+str(days[j])+hours[k]\n",
    "            grib = urllib2.urlopen(string)\n",
    "            output = open(year+month+days[j]+hours[k]+'_'+forwards[i],'wb')\n",
    "            output.write(grib.read())\n",
    "            output.close()\n",
    "            \n"
   ]
  },
  {
   "cell_type": "code",
   "execution_count": null,
   "metadata": {
    "collapsed": true
   },
   "outputs": [],
   "source": []
  },
  {
   "cell_type": "code",
   "execution_count": 16,
   "metadata": {
    "collapsed": false
   },
   "outputs": [
    {
     "data": {
      "text/plain": [
       "['2015113006_03',\n",
       " '2015113006_09',\n",
       " '2015113006_00',\n",
       " '2015113000_06',\n",
       " '2015113000_12',\n",
       " '2015113006_06',\n",
       " '2015113000_09',\n",
       " '2015113000_03',\n",
       " '2015113000_00']"
      ]
     },
     "execution_count": 16,
     "metadata": {},
     "output_type": "execute_result"
    }
   ],
   "source": [
    "path='/home/amassaro/civis/civis_data/previsioni/'\n",
    "files=os.listdir(path)\n",
    "files=[f for f in files if '20151130' in f]\n",
    "files"
   ]
  },
  {
   "cell_type": "code",
   "execution_count": 5,
   "metadata": {
    "collapsed": false
   },
   "outputs": [],
   "source": [
    "files=[f for f in files if f[-3:]!='idx' and f[-3:]!='ctl']"
   ]
  },
  {
   "cell_type": "code",
   "execution_count": 7,
   "metadata": {
    "collapsed": false
   },
   "outputs": [],
   "source": [
    "f_files=[x for x in files if len(x.split('_'))==2]\n",
    "f_files=[x for x in f_files if x.split('_')[1]!='00' and x[-3:]!='ctl' and  x[-3:]!='idx' ]"
   ]
  },
  {
   "cell_type": "code",
   "execution_count": 8,
   "metadata": {
    "collapsed": false
   },
   "outputs": [
    {
     "data": {
      "text/plain": [
       "'2015091500_36'"
      ]
     },
     "execution_count": 8,
     "metadata": {},
     "output_type": "execute_result"
    }
   ],
   "source": [
    "f_files[0]"
   ]
  },
  {
   "cell_type": "code",
   "execution_count": 19,
   "metadata": {
    "collapsed": false
   },
   "outputs": [],
   "source": [
    "for x in files:\n",
    "    command='./print_data_.sh '+x+' 46.0115647 10.8616162'\n",
    "    os.system(command)\n"
   ]
  },
  {
   "cell_type": "code",
   "execution_count": 2,
   "metadata": {
    "collapsed": true
   },
   "outputs": [],
   "source": [
    "os.system('mkdir /media/amassaro/external_2T/grib_files/2013_out_short_long_wave/')\n",
    "storagedir='/media/amassaro/external_2T/grib_files/2013_out_short_long_wave/'\n",
    "for i in range(1,13):\n",
    "    if i>9:\n",
    "        os.system(\"mkdir \"+storagedir+str(i))\n",
    "    else:\n",
    "        os.system(\"mkdir \"+storagedir+'0'+str(i))"
   ]
  },
  {
   "cell_type": "code",
   "execution_count": 4,
   "metadata": {
    "collapsed": false
   },
   "outputs": [],
   "source": [
    "basedir='ftp://nomads.ncdc.noaa.gov/GFS/analysis_only/'\n",
    "month=['2013'+str(i) if i>9 else '20130'+str(i) for i in range(1,13)]\n",
    "days=[str(i) if i >9 else '0'+str(i) for i in range(1,32)]"
   ]
  },
  {
   "cell_type": "code",
   "execution_count": 4,
   "metadata": {
    "collapsed": false
   },
   "outputs": [
    {
     "ename": "NameError",
     "evalue": "name 'folders_month' is not defined",
     "output_type": "error",
     "traceback": [
      "\u001b[1;31m---------------------------------------------------------------------------\u001b[0m",
      "\u001b[1;31mNameError\u001b[0m                                 Traceback (most recent call last)",
      "\u001b[1;32m<ipython-input-4-d3c3f98a8b62>\u001b[0m in \u001b[0;36m<module>\u001b[1;34m()\u001b[0m\n\u001b[1;32m----> 1\u001b[1;33m \u001b[0mbasedir\u001b[0m\u001b[1;33m+\u001b[0m\u001b[0mfolders_month\u001b[0m\u001b[1;33m[\u001b[0m\u001b[1;36m0\u001b[0m\u001b[1;33m]\u001b[0m\u001b[1;33m+\u001b[0m\u001b[1;34m'/'\u001b[0m\u001b[1;33m+\u001b[0m\u001b[0mfolders_month\u001b[0m\u001b[1;33m[\u001b[0m\u001b[1;36m0\u001b[0m\u001b[1;33m]\u001b[0m\u001b[1;33m+\u001b[0m\u001b[0mdays\u001b[0m\u001b[1;33m[\u001b[0m\u001b[1;36m4\u001b[0m\u001b[1;33m]\u001b[0m\u001b[1;33m+\u001b[0m\u001b[1;34m'/'\u001b[0m\u001b[1;33m\u001b[0m\u001b[0m\n\u001b[0m",
      "\u001b[1;31mNameError\u001b[0m: name 'folders_month' is not defined"
     ]
    }
   ],
   "source": [
    "basedir+folders_month[0]+'/'+folders_month[0]+days[4]+'/'"
   ]
  },
  {
   "cell_type": "code",
   "execution_count": 51,
   "metadata": {
    "collapsed": false
   },
   "outputs": [
    {
     "name": "stdout",
     "output_type": "stream",
     "text": [
      "gfsanl_4_20130101_0000_003.grb2\n",
      "gfsanl_4_20130101_0000_006.grb2\n",
      "gfsanl_4_20130101_0600_003.grb2\n",
      "gfsanl_4_20130101_0600_006.grb2\n",
      "gfsanl_4_20130101_1200_003.grb2\n",
      "gfsanl_4_20130101_1200_006.grb2\n",
      "gfsanl_4_20130101_1800_003.grb2\n",
      "gfsanl_4_20130101_1800_006.grb2\n"
     ]
    }
   ],
   "source": [
    "x=urllib2.urlopen(basedir+folders_month[0]+'/'+folders_month[0]+days[0]+'/')\n",
    "files=x.read()\n",
    "for f in files.split('\\n'):\n",
    "    if 'grb2' in f and '_000.grb2' not in f:\n",
    "        print f.split(' ')[-1][:-1]"
   ]
  },
  {
   "cell_type": "code",
   "execution_count": 5,
   "metadata": {
    "collapsed": true
   },
   "outputs": [],
   "source": [
    "days_per_month=[31,28,31,30,31,30,31,31,30,31,30,31]"
   ]
  },
  {
   "cell_type": "code",
   "execution_count": 70,
   "metadata": {
    "collapsed": false,
    "scrolled": true
   },
   "outputs": [
    {
     "name": "stdout",
     "output_type": "stream",
     "text": [
      "ftp://nomads.ncdc.noaa.gov/GFS/analysis_only/201309/20130907/gfsanl_4_20130907_0000_003.grb2\n",
      "ftp://nomads.ncdc.noaa.gov/GFS/analysis_only/201309/20130907/gfsanl_4_20130907_0000_006.grb2\n",
      "ftp://nomads.ncdc.noaa.gov/GFS/analysis_only/201309/20130907/gfsanl_4_20130907_0600_003.grb2\n",
      "ftp://nomads.ncdc.noaa.gov/GFS/analysis_only/201309/20130907/gfsanl_4_20130907_0600_006.grb2\n",
      "ftp://nomads.ncdc.noaa.gov/GFS/analysis_only/201309/20130907/gfsanl_4_20130907_1200_003.grb2\n",
      "ftp://nomads.ncdc.noaa.gov/GFS/analysis_only/201309/20130907/gfsanl_4_20130907_1200_006.grb2\n",
      "ftp://nomads.ncdc.noaa.gov/GFS/analysis_only/201309/20130907/gfsanl_4_20130907_1800_003.grb2\n",
      "ftp://nomads.ncdc.noaa.gov/GFS/analysis_only/201309/20130907/gfsanl_4_20130907_1800_006.grb2\n"
     ]
    }
   ],
   "source": [
    "basedir+month[i]+'/'+month[i]+days[j]+'/'\n",
    "for f in files.split('\\n'):\n",
    "    if 'grb2' in f and '_000.grb2' not in f:\n",
    "        F=f.split(' ')[-1][:-1]\n",
    "        print url+F"
   ]
  },
  {
   "cell_type": "code",
   "execution_count": 71,
   "metadata": {
    "collapsed": false
   },
   "outputs": [],
   "source": [
    "for i in range(8,len(month)):\n",
    "    for j in range(days_per_month[i]):\n",
    "        url=basedir+month[i]+'/'+month[i]+days[j]+'/'\n",
    "        x=urllib2.urlopen(url)\n",
    "        files=x.read()\n",
    "        for f in files.split('\\n'):\n",
    "            if 'grb2' in f and '_000.grb2' not in f:\n",
    "                F=f.split(' ')[-1][:-1]\n",
    "                grib = urllib2.urlopen(url+F)\n",
    "                output = open(storagedir+month[i][-2:]+'/'+F,'wb')\n",
    "                output.write(grib.read())\n",
    "                output.close()\n",
    "        \n",
    "    \n",
    "    "
   ]
  },
  {
   "cell_type": "code",
   "execution_count": 15,
   "metadata": {
    "collapsed": false
   },
   "outputs": [],
   "source": [
    "storagedir='/media/amassaro/external_2T/grib_files/2013/'\n",
    "perl_script='/home/amassaro/civis/civis_data/previsioni/g2ctl.pl'\n",
    "for m in month:\n",
    "    infiles=os.listdir(storagedir+m[-2:]+'/')\n",
    "    for f in infiles:\n",
    "        infile=storagedir+m[-2:]+'/'+f\n",
    "        outfile=infile+'.ctl'\n",
    "        command='perl '+perl_script+' '+infile+'>'+outfile\n",
    "        os.system(command)\n",
    "#perl /home/amassaro/civis/civis_data/previsioni/g2ctl.pl /home/amassaro/civis/civis_data/previsioni/gribs/$1 > /home/amassaro/civis/civis_data/previsioni/gribs/$1.ctl"
   ]
  },
  {
   "cell_type": "code",
   "execution_count": 6,
   "metadata": {
    "collapsed": false
   },
   "outputs": [
    {
     "data": {
      "text/plain": [
       "['201301',\n",
       " '201302',\n",
       " '201303',\n",
       " '201304',\n",
       " '201305',\n",
       " '201306',\n",
       " '201307',\n",
       " '201308',\n",
       " '201309',\n",
       " '201310',\n",
       " '201311',\n",
       " '201312']"
      ]
     },
     "execution_count": 6,
     "metadata": {},
     "output_type": "execute_result"
    }
   ],
   "source": [
    "month\n"
   ]
  },
  {
   "cell_type": "code",
   "execution_count": 2,
   "metadata": {
    "collapsed": false
   },
   "outputs": [
    {
     "ename": "NameError",
     "evalue": "name 'month' is not defined",
     "output_type": "error",
     "traceback": [
      "\u001b[1;31m---------------------------------------------------------------------------\u001b[0m",
      "\u001b[1;31mNameError\u001b[0m                                 Traceback (most recent call last)",
      "\u001b[1;32m<ipython-input-2-2359b7e57cf5>\u001b[0m in \u001b[0;36m<module>\u001b[1;34m()\u001b[0m\n\u001b[0;32m      1\u001b[0m \u001b[0mstoragedir\u001b[0m\u001b[1;33m=\u001b[0m\u001b[1;34m'/media/amassaro/external_2T/grib_files/2013/'\u001b[0m\u001b[1;33m\u001b[0m\u001b[0m\n\u001b[1;32m----> 2\u001b[1;33m \u001b[1;32mfor\u001b[0m \u001b[0mm\u001b[0m \u001b[1;32min\u001b[0m \u001b[0mmonth\u001b[0m\u001b[1;33m:\u001b[0m\u001b[1;33m\u001b[0m\u001b[0m\n\u001b[0m\u001b[0;32m      3\u001b[0m     \u001b[0minfiles\u001b[0m\u001b[1;33m=\u001b[0m\u001b[0mos\u001b[0m\u001b[1;33m.\u001b[0m\u001b[0mlistdir\u001b[0m\u001b[1;33m(\u001b[0m\u001b[0mstoragedir\u001b[0m\u001b[1;33m+\u001b[0m\u001b[0mm\u001b[0m\u001b[1;33m[\u001b[0m\u001b[1;33m-\u001b[0m\u001b[1;36m2\u001b[0m\u001b[1;33m:\u001b[0m\u001b[1;33m]\u001b[0m\u001b[1;33m+\u001b[0m\u001b[1;34m'/'\u001b[0m\u001b[1;33m)\u001b[0m\u001b[1;33m\u001b[0m\u001b[0m\n\u001b[0;32m      4\u001b[0m     \u001b[0minfiles\u001b[0m\u001b[1;33m=\u001b[0m\u001b[1;33m[\u001b[0m\u001b[0mx\u001b[0m \u001b[1;32mfor\u001b[0m \u001b[0mx\u001b[0m \u001b[1;32min\u001b[0m \u001b[0minfiles\u001b[0m \u001b[1;32mif\u001b[0m \u001b[0mx\u001b[0m\u001b[1;33m[\u001b[0m\u001b[1;33m-\u001b[0m\u001b[1;36m3\u001b[0m\u001b[1;33m:\u001b[0m\u001b[1;33m]\u001b[0m\u001b[1;33m==\u001b[0m\u001b[1;34m'ctl'\u001b[0m\u001b[1;33m]\u001b[0m\u001b[1;33m\u001b[0m\u001b[0m\n\u001b[0;32m      5\u001b[0m     \u001b[1;32mfor\u001b[0m \u001b[0mf\u001b[0m \u001b[1;32min\u001b[0m \u001b[0minfiles\u001b[0m\u001b[1;33m:\u001b[0m\u001b[1;33m\u001b[0m\u001b[0m\n",
      "\u001b[1;31mNameError\u001b[0m: name 'month' is not defined"
     ]
    }
   ],
   "source": [
    "storagedir='/media/amassaro/external_2T/grib_files/2013/'\n",
    "for m in month:\n",
    "    infiles=os.listdir(storagedir+m[-2:]+'/')\n",
    "    infiles=[x for x in infiles if x[-3:]=='ctl']\n",
    "    for f in infiles:\n",
    "        command='gribmap -i '+storagedir+m[-2:]+'/'+f\n",
    "        os.system(command)"
   ]
  },
  {
   "cell_type": "code",
   "execution_count": 8,
   "metadata": {
    "collapsed": false
   },
   "outputs": [
    {
     "data": {
      "text/plain": [
       "25344"
      ]
     },
     "execution_count": 8,
     "metadata": {},
     "output_type": "execute_result"
    }
   ],
   "source": [
    "os.system('grads -blcx \"grads_script.gs 46.0115647 10.8616162 /media/amassaro/external_2T/grib_files/2013/01/gfsanl_4_20130101_0000_003.grb2.ctl /media/amassaro/external_2T/grib_files/2013out/01/gfsanl_4_20130101_0000_003.txt\"')"
   ]
  },
  {
   "cell_type": "code",
   "execution_count": 7,
   "metadata": {
    "collapsed": false
   },
   "outputs": [],
   "source": [
    "indir='/media/amassaro/external_2T/grib_files/2013/'\n",
    "storagedir='/media/amassaro/external_2T/grib_files/2013_out_short_long_wave/'\n",
    "for m in month:\n",
    "    infiles=os.listdir(indir+m[-2:]+'/')\n",
    "    infiles=[x for x in infiles if x[-3:]=='ctl']\n",
    "    for f in infiles:\n",
    "        infile=indir+m[-2:]+'/'+f\n",
    "        outfile=storagedir+m[-2:]+'/'+f[:-8]+'txt'\n",
    "        command='grads -blcx \"grads_script_short_long_wave.gs 46.0115647 10.8616162 '+infile+' '+outfile+'\"'\n",
    "        os.system(command)"
   ]
  },
  {
   "cell_type": "code",
   "execution_count": 9,
   "metadata": {
    "collapsed": false
   },
   "outputs": [],
   "source": [
    "irr1=[]\n",
    "for i in range(1,13):\n",
    "    if i<10:\n",
    "        storagedir='/media/amassaro/external_2T/grib_files/2013_out_short_long_wave/0'+str(i)+'/'\n",
    "    else:\n",
    "        storagedir='/media/amassaro/external_2T/grib_files/2013_out_short_long_wave/'+str(i)+'/'\n",
    "    files=os.listdir(storagedir)\n",
    "    files.sort()\n",
    "    for f in files:\n",
    "        ff=open(storagedir+f,'r')\n",
    "        c=0\n",
    "        for l in ff:\n",
    "            if c>0:\n",
    "#            print l.split(':')[-1][:-1]\n",
    "                irr1.append(float(l.split(':')[-1][:-1]))\n",
    "            c+=1\n",
    "    #break"
   ]
  },
  {
   "cell_type": "code",
   "execution_count": 27,
   "metadata": {
    "collapsed": false
   },
   "outputs": [
    {
     "data": {
      "image/png": "[encoded data removed]",
      "text/plain": [
       "<matplotlib.figure.Figure at 0x7f1f36beed90>"
      ]
     },
     "metadata": {},
     "output_type": "display_data"
    }
   ],
   "source": [
    "plt.plot(irr)\n",
    "plt.show()"
   ]
  },
  {
   "cell_type": "code",
   "execution_count": 11,
   "metadata": {
    "collapsed": false
   },
   "outputs": [
    {
     "data": {
      "image/png": "[encoded data removed]",
      "text/plain": [
       "<matplotlib.figure.Figure at 0x7fb8fa173e90>"
      ]
     },
     "metadata": {},
     "output_type": "display_data"
    }
   ],
   "source": [
    "plt.plot(irr1)\n",
    "plt.show()"
   ]
  },
  {
   "cell_type": "code",
   "execution_count": 26,
   "metadata": {
    "collapsed": true
   },
   "outputs": [],
   "source": [
    "short_wave=[]\n",
    "long_wave=[]\n",
    "for i in range(1,13):\n",
    "    if i<10:\n",
    "        storagedir='/media/amassaro/external_2T/grib_files/2013_out_short_long_wave/0'+str(i)+'/'\n",
    "    else:\n",
    "        storagedir='/media/amassaro/external_2T/grib_files/2013_out_short_long_wave/'+str(i)+'/'\n",
    "    files=os.listdir(storagedir)\n",
    "    files.sort()\n",
    "    for f in files:\n",
    "        ff=open(storagedir+f,'r')\n",
    "        k=0\n",
    "        for l in ff:\n",
    "            if k==0:\n",
    "                long_wave.append(float(l.split(':')[-1][:-1]))\n",
    "            else:\n",
    "                short_wave.append(float(l.split(':')[-1][:-1]))\n",
    "            k+=1\n",
    "        k=0\n",
    "short_wave=np.array(short_wave)\n",
    "long_wave=np.array(long_wave)\n",
    "        "
   ]
  },
  {
   "cell_type": "code",
   "execution_count": 28,
   "metadata": {
    "collapsed": false
   },
   "outputs": [
    {
     "data": {
      "image/png": "[encoded data removed]",
      "text/plain": [
       "<matplotlib.figure.Figure at 0x7fb8f97fc490>"
      ]
     },
     "metadata": {},
     "output_type": "display_data"
    },
    {
     "data": {
      "image/png": "[encoded data removed]",
      "text/plain": [
       "<matplotlib.figure.Figure at 0x7fb8f9b52e50>"
      ]
     },
     "metadata": {},
     "output_type": "display_data"
    }
   ],
   "source": [
    "plt.plot(short_wave)\n",
    "plt.show()\n",
    "plt.plot(long_wave)\n",
    "plt.show()"
   ]
  },
  {
   "cell_type": "code",
   "execution_count": 18,
   "metadata": {
    "collapsed": true
   },
   "outputs": [],
   "source": [
    "path='/home/amassaro/civis/civis_data/previsioni/outs/san_lorenzo/'\n",
    "files=os.listdir(path)\n",
    "files.sort()"
   ]
  },
  {
   "cell_type": "code",
   "execution_count": 19,
   "metadata": {
    "collapsed": false
   },
   "outputs": [],
   "source": [
    "files=[f for f in files if f[:10]=='2015090618']"
   ]
  },
  {
   "cell_type": "code",
   "execution_count": 20,
   "metadata": {
    "collapsed": false
   },
   "outputs": [
    {
     "data": {
      "text/plain": [
       "['2015090618_03.txt',\n",
       " '2015090618_06.txt',\n",
       " '2015090618_09.txt',\n",
       " '2015090618_12.txt',\n",
       " '2015090618_15.txt',\n",
       " '2015090618_18.txt',\n",
       " '2015090618_21.txt',\n",
       " '2015090618_24.txt',\n",
       " '2015090618_27.txt',\n",
       " '2015090618_30.txt',\n",
       " '2015090618_33.txt',\n",
       " '2015090618_36.txt',\n",
       " '2015090618_39.txt',\n",
       " '2015090618_42.txt',\n",
       " '2015090618_45.txt',\n",
       " '2015090618_48.txt',\n",
       " '2015090618_51.txt',\n",
       " '2015090618_54.txt',\n",
       " '2015090618_57.txt',\n",
       " '2015090618_60.txt',\n",
       " '2015090618_63.txt',\n",
       " '2015090618_66.txt',\n",
       " '2015090618_69.txt',\n",
       " '2015090618_72.txt',\n",
       " '2015090618_75.txt',\n",
       " '2015090618_78.txt']"
      ]
     },
     "execution_count": 20,
     "metadata": {},
     "output_type": "execute_result"
    }
   ],
   "source": [
    "files"
   ]
  },
  {
   "cell_type": "code",
   "execution_count": 31,
   "metadata": {
    "collapsed": false
   },
   "outputs": [
    {
     "name": "stdout",
     "output_type": "stream",
     "text": [
      "2015090618_03 0.0\n",
      "2015090618_06 0.0\n",
      "2015090618_09 0.0\n",
      "2015090618_12 12.0\n",
      "2015090618_15 410.0\n",
      "2015090618_18 581.0\n",
      "2015090618_21 630.0\n",
      "2015090618_24 401.0\n",
      "2015090618_27 0.0\n",
      "2015090618_30 0.0\n",
      "2015090618_33 0.0\n",
      "2015090618_36 13.0\n",
      "2015090618_39 430.0\n",
      "2015090618_42 589.0\n",
      "2015090618_45 570.0\n",
      "2015090618_48 352.0\n",
      "2015090618_51 0.0\n",
      "2015090618_54 0.0\n",
      "2015090618_57 0.0\n",
      "2015090618_60 6.0\n",
      "2015090618_63 330.0\n",
      "2015090618_66 385.0\n",
      "2015090618_69 377.0\n",
      "2015090618_72 255.0\n",
      "2015090618_75 0.0\n",
      "2015090618_78 0.0\n"
     ]
    }
   ],
   "source": [
    "for f in files:\n",
    "    ff=open(path+f,'r')\n",
    "    k=0\n",
    "    for line in ff:\n",
    "        if k:\n",
    "            print f.split('.')[0], line.split(':')[1][:-1]\n",
    "        k+=1"
   ]
  },
  {
   "cell_type": "code",
   "execution_count": 33,
   "metadata": {
    "collapsed": false
   },
   "outputs": [],
   "source": [
    "path='/home/amassaro/civis/civis_data/previsioni/2013_out_short_long_wave/01/'\n",
    "files=os.listdir(path)\n",
    "files.sort()"
   ]
  },
  {
   "cell_type": "code",
   "execution_count": 47,
   "metadata": {
    "collapsed": false,
    "scrolled": true
   },
   "outputs": [],
   "source": [
    "r=[]\n",
    "h=[]\n",
    "for f in files:\n",
    "    ff=open(path+f,'r')\n",
    "    k=0\n",
    "    for line in ff:\n",
    "        if k:\n",
    "            #print f.split('_')[-1][2], float(line.split(':')[-1])\n",
    "            r.append(float(line.split(':')[-1]))\n",
    "            h.append(float(f.split('_')[-1][2]))\n",
    "            #print f.split('.')[0], line.split(':')[1][:-1]\n",
    "        k+=1"
   ]
  },
  {
   "cell_type": "code",
   "execution_count": 48,
   "metadata": {
    "collapsed": false
   },
   "outputs": [],
   "source": [
    "rad=[]\n",
    "for i in range(1, len(r)):\n",
    "    if h[i]==6:\n",
    "        rad.append(r[i]*h[i]-r[i-1]*h[i-1])\n",
    "    else:\n",
    "        rad.append(r[i]*h[i])\n",
    "    "
   ]
  },
  {
   "cell_type": "code",
   "execution_count": 49,
   "metadata": {
    "collapsed": false
   },
   "outputs": [
    {
     "data": {
      "image/png": "[encoded data removed]",
      "text/plain": [
       "<matplotlib.figure.Figure at 0x7f0f94266090>"
      ]
     },
     "metadata": {},
     "output_type": "display_data"
    }
   ],
   "source": [
    "plt.plot(rad)\n",
    "plt.show()"
   ]
  },
  {
   "cell_type": "code",
   "execution_count": 50,
   "metadata": {
    "collapsed": false
   },
   "outputs": [
    {
     "data": {
      "image/png": "[encoded data removed]",
      "text/plain": [
       "<matplotlib.figure.Figure at 0x7f0f94266790>"
      ]
     },
     "metadata": {},
     "output_type": "display_data"
    }
   ],
   "source": [
    "plt.plot(r)\n",
    "plt.show()"
   ]
  },
  {
   "cell_type": "code",
   "execution_count": 51,
   "metadata": {
    "collapsed": false
   },
   "outputs": [
    {
     "data": {
      "text/plain": [
       "[0.0,\n",
       " 180.0,\n",
       " 960.0,\n",
       " 630.0,\n",
       " 30.0,\n",
       " 0.0,\n",
       " 0.0,\n",
       " 0.0,\n",
       " 0.0,\n",
       " 60.0,\n",
       " 240.0,\n",
       " 270.0,\n",
       " -30.0,\n",
       " 0.0,\n",
       " 0.0,\n",
       " 0.0,\n",
       " 0.0,\n",
       " 180.0,\n",
       " 960.0,\n",
       " 720.0,\n",
       " 0.0,\n",
       " 0.0,\n",
       " 0.0,\n",
       " 0.0,\n",
       " 0.0,\n",
       " 180.0,\n",
       " 900.0,\n",
       " 690.0,\n",
       " 30.0,\n",
       " 0.0,\n",
       " 0.0,\n",
       " 0.0,\n",
       " 0.0,\n",
       " 180.0,\n",
       " 960.0,\n",
       " 690.0,\n",
       " 30.0,\n",
       " 0.0,\n",
       " 0.0,\n",
       " 0.0,\n",
       " 0.0,\n",
       " 180.0,\n",
       " 960.0,\n",
       " 720.0,\n",
       " 0.0,\n",
       " 0.0,\n",
       " 0.0,\n",
       " 0.0,\n",
       " 0.0,\n",
       " 180.0,\n",
       " 1020.0,\n",
       " 750.0,\n",
       " 30.0,\n",
       " 0.0,\n",
       " 0.0,\n",
       " 0.0,\n",
       " 0.0,\n",
       " 180.0,\n",
       " 1020.0,\n",
       " 750.0,\n",
       " 30.0,\n",
       " 0.0,\n",
       " 0.0,\n",
       " 0.0,\n",
       " 0.0,\n",
       " 180.0,\n",
       " 900.0,\n",
       " 690.0,\n",
       " 30.0,\n",
       " 0.0,\n",
       " 0.0,\n",
       " 0.0,\n",
       " 0.0,\n",
       " 120.0,\n",
       " 780.0,\n",
       " 630.0,\n",
       " 30.0,\n",
       " 0.0,\n",
       " 0.0,\n",
       " 0.0,\n",
       " 0.0,\n",
       " 180.0,\n",
       " 960.0,\n",
       " 750.0,\n",
       " 90.0,\n",
       " 0.0,\n",
       " 0.0,\n",
       " 0.0,\n",
       " 0.0,\n",
       " 210.0,\n",
       " 990.0,\n",
       " 720.0,\n",
       " 0.0,\n",
       " 0.0,\n",
       " 0.0,\n",
       " 0.0,\n",
       " 0.0,\n",
       " 60.0,\n",
       " 300.0,\n",
       " 330.0,\n",
       " 30.0,\n",
       " 0.0,\n",
       " 0.0,\n",
       " 0.0,\n",
       " 0.0,\n",
       " 30.0,\n",
       " 270.0,\n",
       " 300.0,\n",
       " 0.0,\n",
       " 0.0,\n",
       " 0.0,\n",
       " 0.0,\n",
       " 0.0,\n",
       " 30.0,\n",
       " 330.0,\n",
       " 660.0,\n",
       " 60.0,\n",
       " 0.0,\n",
       " 0.0,\n",
       " 0.0,\n",
       " 0.0,\n",
       " 60.0,\n",
       " 300.0,\n",
       " 240.0,\n",
       " 0.0,\n",
       " 0.0,\n",
       " 0.0,\n",
       " 0.0,\n",
       " 0.0,\n",
       " 90.0,\n",
       " 510.0,\n",
       " 510.0,\n",
       " 42.0,\n",
       " 0.0,\n",
       " 0.0,\n",
       " 0.0,\n",
       " 0.0,\n",
       " 240.0,\n",
       " 1080.0,\n",
       " 900.0,\n",
       " 42.0,\n",
       " 0.0,\n",
       " 0.0,\n",
       " 0.0,\n",
       " 0.0,\n",
       " 210.0,\n",
       " 1050.0,\n",
       " 720.0,\n",
       " 0.0,\n",
       " 0.0,\n",
       " 0.0,\n",
       " 0.0,\n",
       " 0.0,\n",
       " 90.0,\n",
       " 90.0,\n",
       " 90.0,\n",
       " 0.0,\n",
       " 0.0,\n",
       " 0.0,\n",
       " 0.0,\n",
       " 0.0,\n",
       " 60.0,\n",
       " 540.0,\n",
       " 480.0,\n",
       " 0.0,\n",
       " 0.0,\n",
       " 0.0,\n",
       " 0.0,\n",
       " 0.0,\n",
       " 60.0,\n",
       " 240.0,\n",
       " 240.0,\n",
       " 0.0,\n",
       " 0.0,\n",
       " 0.0,\n",
       " 0.0,\n",
       " 0.0,\n",
       " 240.0,\n",
       " 1140.0,\n",
       " 870.0,\n",
       " 90.0,\n",
       " 0.0,\n",
       " 0.0,\n",
       " 0.0,\n",
       " 0.0,\n",
       " 210.0,\n",
       " 1170.0,\n",
       " 810.0,\n",
       " 30.0,\n",
       " 0.0,\n",
       " 0.0,\n",
       " 0.0,\n",
       " 0.0,\n",
       " 270.0,\n",
       " 1230.0,\n",
       " 990.0,\n",
       " 90.0,\n",
       " 0.0,\n",
       " 0.0,\n",
       " 0.0,\n",
       " 0.0,\n",
       " 270.0,\n",
       " 1230.0,\n",
       " 1020.0,\n",
       " 60.0,\n",
       " 0.0,\n",
       " 0.0,\n",
       " 0.0,\n",
       " 0.0,\n",
       " 270.0,\n",
       " 1212.0,\n",
       " 960.0,\n",
       " 60.0,\n",
       " 0.0,\n",
       " 0.0,\n",
       " 0.0,\n",
       " 0.0,\n",
       " 60.0,\n",
       " 360.0,\n",
       " 390.0,\n",
       " 30.0,\n",
       " 0.0,\n",
       " 0.0,\n",
       " 0.0,\n",
       " 0.0,\n",
       " 270.0,\n",
       " 1212.0,\n",
       " 900.0,\n",
       " 60.0,\n",
       " 0.0,\n",
       " 0.0,\n",
       " 0.0,\n",
       " 0.0,\n",
       " 270.0,\n",
       " 1188.0,\n",
       " 960.0,\n",
       " 60.0,\n",
       " 0.0,\n",
       " 0.0,\n",
       " 0.0,\n",
       " 0.0,\n",
       " 330.0,\n",
       " 1302.0,\n",
       " 1080.0,\n",
       " 120.0,\n",
       " 0.0,\n",
       " 0.0]"
      ]
     },
     "execution_count": 51,
     "metadata": {},
     "output_type": "execute_result"
    }
   ],
   "source": [
    "rad"
   ]
  },
  {
   "cell_type": "code",
   "execution_count": null,
   "metadata": {
    "collapsed": true
   },
   "outputs": [],
   "source": []
  }
 ],
 "metadata": {
  "kernelspec": {
   "display_name": "Python 2",
   "language": "python",
   "name": "python2"
  },
  "language_info": {
   "codemirror_mode": {
    "name": "ipython",
    "version": 2
   },
   "file_extension": ".py",
   "mimetype": "text/x-python",
   "name": "python",
   "nbconvert_exporter": "python",
   "pygments_lexer": "ipython2",
   "version": "2.7.10"
  }
 },
 "nbformat": 4,
 "nbformat_minor": 0
}
